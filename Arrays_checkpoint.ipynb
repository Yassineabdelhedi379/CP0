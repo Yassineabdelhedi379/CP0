{
  "nbformat": 4,
  "nbformat_minor": 0,
  "metadata": {
    "colab": {
      "name": "Arrays checkpoint",
      "provenance": [],
      "authorship_tag": "ABX9TyMnXG8Keq8OO++hRAHh1Sj8",
      "include_colab_link": true
    },
    "kernelspec": {
      "name": "python3",
      "display_name": "Python 3"
    },
    "language_info": {
      "name": "python"
    }
  },
  "cells": [
    {
      "cell_type": "markdown",
      "metadata": {
        "id": "view-in-github",
        "colab_type": "text"
      },
      "source": [
        "<a href=\"https://colab.research.google.com/github/Yassineabdelhedi379/CP0/blob/main/Arrays_checkpoint.ipynb\" target=\"_parent\"><img src=\"https://colab.research.google.com/assets/colab-badge.svg\" alt=\"Open In Colab\"/></a>"
      ]
    },
    {
      "cell_type": "code",
      "metadata": {
        "colab": {
          "base_uri": "https://localhost:8080/"
        },
        "id": "g_HVPbVsu-os",
        "outputId": "db514a62-cba2-47e4-a795-4a394e053f75"
      },
      "source": [
        "from array import *\n",
        "array_num = array('i', [1, 3, 5, 3, 7, 1, 9, 3])\n",
        "print(\"Original array: \"+str(array_num))\n",
        "num_list = array_num.tolist()\n",
        "print(\"Convert the said array to an ordinary list with the same items:\")\n",
        "print(num_list)\n"
      ],
      "execution_count": 1,
      "outputs": [
        {
          "output_type": "stream",
          "text": [
            "Original array: array('i', [1, 3, 5, 3, 7, 1, 9, 3])\n",
            "Convert the said array to an ordinary list with the same items:\n",
            "[1, 3, 5, 3, 7, 1, 9, 3]\n"
          ],
          "name": "stdout"
        }
      ]
    },
    {
      "cell_type": "code",
      "metadata": {
        "colab": {
          "base_uri": "https://localhost:8080/"
        },
        "id": "utlDuzDuvO3I",
        "outputId": "247eb7e5-df32-414d-e7fc-ded4ae1306a1"
      },
      "source": [
        "\n",
        "import numpy as np\n",
        "  \n",
        "\n",
        "n_array = np.array([[55, 25, 15],\n",
        "                    [30, 44, 2],\n",
        "                    [11, 45, 77]])\n",
        "\n",
        "print(\"Numpy Matrix is:\")\n",
        "print(n_array)\n",
        "  \n",
        "trace = np.trace(n_array)\n",
        "  \n",
        "  \n",
        "print(\"\\nTrace of given 3X3 matrix:\")\n",
        "print(trace)"
      ],
      "execution_count": 2,
      "outputs": [
        {
          "output_type": "stream",
          "text": [
            "Numpy Matrix is:\n",
            "[[55 25 15]\n",
            " [30 44  2]\n",
            " [11 45 77]]\n",
            "\n",
            "Trace of given 3X3 matrix:\n",
            "176\n"
          ],
          "name": "stdout"
        }
      ]
    },
    {
      "cell_type": "code",
      "metadata": {
        "colab": {
          "base_uri": "https://localhost:8080/"
        },
        "id": "Kv8eMjdtvm4H",
        "outputId": "efa13be9-4570-4b86-a734-7498958ebea3"
      },
      "source": [
        "import numpy as np\n",
        "x = np.array([[0, 4, 5], [1, 2, 3]])\n",
        "print(\"Original array: \")\n",
        "print(x)\n",
        "print(\"Values bigger than 3 =\", x[x>3])\n",
        "print(\"Their indices are \", np.nonzero(x > 3))"
      ],
      "execution_count": 6,
      "outputs": [
        {
          "output_type": "stream",
          "text": [
            "Original array: \n",
            "[[0 4 5]\n",
            " [1 2 3]]\n",
            "Values bigger than 3 = [4 5]\n",
            "Their indices are  (array([0, 0]), array([1, 2]))\n"
          ],
          "name": "stdout"
        }
      ]
    },
    {
      "cell_type": "code",
      "metadata": {
        "colab": {
          "base_uri": "https://localhost:8080/"
        },
        "id": "sD5vUgklwk0s",
        "outputId": "a74cc820-a1ef-4211-e03f-c28ca3832b0e"
      },
      "source": [
        "\n",
        "def getSum(X):\n",
        "    sum=0\n",
        "    for i in X:\n",
        "        sum+=i\n",
        "    return sum\n",
        " \n",
        "\n",
        "def findSwapValues(A,B):\n",
        "   \n",
        "    sum1=getSum(A)\n",
        "    sum2=getSum(B)\n",
        "\n",
        "    k=False\n",
        " \n",
        "   \n",
        "    val1,val2=0,0\n",
        "    for i in A:\n",
        "        for j in B:\n",
        "            newsum1=sum1-i+j\n",
        "            newsum2=sum2-j+i\n",
        "             \n",
        "            if newsum1 ==newsum2:\n",
        "                val1=i\n",
        "                val2=j\n",
        "               \n",
        "                k=True\n",
        "                break\n",
        "     \n",
        "        if k==True:\n",
        "            break\n",
        "    print(val1,val2)\n",
        "    return\n",
        " \n",
        " \n",
        "\n",
        "A=[4,1,2,1,1,2]\n",
        "B=[3,6,3,3]\n",
        " \n",
        "\n",
        "findSwapValues(A,B)\n",
        " \n"
      ],
      "execution_count": 9,
      "outputs": [
        {
          "output_type": "stream",
          "text": [
            "4 6\n"
          ],
          "name": "stdout"
        }
      ]
    },
    {
      "cell_type": "code",
      "metadata": {
        "colab": {
          "base_uri": "https://localhost:8080/"
        },
        "id": "BDKR_5L04flC",
        "outputId": "47cfe5df-7d44-4169-f33f-7a799323b6b8"
      },
      "source": [
        "import numpy as np \n",
        "a = np.array([0, 1, 2])\n",
        "b = np.array([5, 5, 5])\n",
        "a + b \n",
        "a + 5\n",
        "c = np.ones((3, 3))\n",
        "c\n",
        "c + a \n",
        "a = np.arange(3)\n",
        "b = np.arange(3) [:, np.newaxis]\n",
        "\n",
        "print(a)\n",
        "print(b)\n",
        "a + b"
      ],
      "execution_count": 16,
      "outputs": [
        {
          "output_type": "stream",
          "text": [
            "[0 1 2]\n",
            "[[0]\n",
            " [1]\n",
            " [2]]\n"
          ],
          "name": "stdout"
        },
        {
          "output_type": "execute_result",
          "data": {
            "text/plain": [
              "array([[0, 1, 2],\n",
              "       [1, 2, 3],\n",
              "       [2, 3, 4]])"
            ]
          },
          "metadata": {
            "tags": []
          },
          "execution_count": 16
        }
      ]
    },
    {
      "cell_type": "code",
      "metadata": {
        "colab": {
          "base_uri": "https://localhost:8080/"
        },
        "id": "4hQy8UgV52hH",
        "outputId": "6ea2fcd4-603d-4284-d951-2ebc4f7be9ec"
      },
      "source": [
        "import numpy as np\n",
        "print(\"Original matrix:\\n\")\n",
        "X = np.random.rand(5, 10)\n",
        "print(X)\n",
        "print(\"\\nSubtract the mean of each row of the said matrix:\\n\")\n",
        "Y = X - X.mean(axis=1, keepdims=True)\n",
        "print(Y)"
      ],
      "execution_count": 20,
      "outputs": [
        {
          "output_type": "stream",
          "text": [
            "Original matrix:\n",
            "\n",
            "[[0.756871   0.96480671 0.34664512 0.12438467 0.26685686 0.91858805\n",
            "  0.7452721  0.26861586 0.25365951 0.34969789]\n",
            " [0.76272765 0.78639145 0.73054821 0.04448631 0.90536709 0.27026937\n",
            "  0.93486028 0.55371534 0.07117372 0.10434615]\n",
            " [0.81601199 0.47250197 0.02242087 0.46088339 0.36256493 0.32283405\n",
            "  0.17850158 0.92251755 0.97653168 0.40471685]\n",
            " [0.81479154 0.23479562 0.0352711  0.66689945 0.73340323 0.95078065\n",
            "  0.81704478 0.91213101 0.82795085 0.94089468]\n",
            " [0.07795377 0.41209157 0.70396574 0.7150355  0.24843774 0.45363371\n",
            "  0.61971846 0.86522039 0.22065562 0.97787917]]\n",
            "\n",
            "Subtract the mean of each row of the said matrix:\n",
            "\n",
            "[[ 0.25733123  0.46526693 -0.15289466 -0.37515511 -0.23268292  0.41904827\n",
            "   0.24573232 -0.23092392 -0.24588027 -0.14984188]\n",
            " [ 0.24633909  0.27000289  0.21415965 -0.47190225  0.38897853 -0.24611919\n",
            "   0.41847172  0.03732678 -0.44521483 -0.4120424 ]\n",
            " [ 0.32206351 -0.02144651 -0.47152762 -0.03306509 -0.13138355 -0.17111444\n",
            "  -0.31544691  0.42856906  0.48258319 -0.08923163]\n",
            " [ 0.12139525 -0.45860067 -0.65812519 -0.02649684  0.04000694  0.25738436\n",
            "   0.12364849  0.21873472  0.13455456  0.24749839]\n",
            " [-0.4515054  -0.11736759  0.17450657  0.18557633 -0.28102142 -0.07582545\n",
            "   0.09025929  0.33576122 -0.30880355  0.44842   ]]\n"
          ],
          "name": "stdout"
        }
      ]
    }
  ]
}